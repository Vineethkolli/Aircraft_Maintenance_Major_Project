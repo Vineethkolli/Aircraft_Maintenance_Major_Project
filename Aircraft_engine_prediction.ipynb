{
  "cells": [
    {
      "cell_type": "code",
      "execution_count": 2,
      "metadata": {
        "id": "_N0b4Xx2cS6O"
      },
      "outputs": [],
      "source": [
        "import pandas as pd\n",
        "df = pd.read_csv(\"C:/Users/kolli/Downloads/Majorcode - Copy/Battery_RUL.csv\")"
      ]
    },
    {
      "cell_type": "code",
      "execution_count": 3,
      "metadata": {
        "colab": {
          "base_uri": "https://localhost:8080/",
          "height": 223
        },
        "id": "4XBCOgLwdZyo",
        "outputId": "bb122da7-9157-41bf-b1e6-dfa1c1150874"
      },
      "outputs": [
        {
          "data": {
            "text/html": [
              "<div>\n",
              "<style scoped>\n",
              "    .dataframe tbody tr th:only-of-type {\n",
              "        vertical-align: middle;\n",
              "    }\n",
              "\n",
              "    .dataframe tbody tr th {\n",
              "        vertical-align: top;\n",
              "    }\n",
              "\n",
              "    .dataframe thead th {\n",
              "        text-align: right;\n",
              "    }\n",
              "</style>\n",
              "<table border=\"1\" class=\"dataframe\">\n",
              "  <thead>\n",
              "    <tr style=\"text-align: right;\">\n",
              "      <th></th>\n",
              "      <th>Cycle_Index</th>\n",
              "      <th>Discharge Time (s)</th>\n",
              "      <th>Decrement 3.6-3.4V (s)</th>\n",
              "      <th>Max. Voltage Dischar. (V)</th>\n",
              "      <th>Min. Voltage Charg. (V)</th>\n",
              "      <th>Time at 4.15V (s)</th>\n",
              "      <th>Time constant current (s)</th>\n",
              "      <th>Charging time (s)</th>\n",
              "      <th>RUL</th>\n",
              "    </tr>\n",
              "  </thead>\n",
              "  <tbody>\n",
              "    <tr>\n",
              "      <th>0</th>\n",
              "      <td>1.0</td>\n",
              "      <td>2595.30</td>\n",
              "      <td>1151.488500</td>\n",
              "      <td>3.670</td>\n",
              "      <td>3.211</td>\n",
              "      <td>5460.001</td>\n",
              "      <td>6755.01</td>\n",
              "      <td>10777.82</td>\n",
              "      <td>1112</td>\n",
              "    </tr>\n",
              "    <tr>\n",
              "      <th>1</th>\n",
              "      <td>2.0</td>\n",
              "      <td>7408.64</td>\n",
              "      <td>1172.512500</td>\n",
              "      <td>4.246</td>\n",
              "      <td>3.220</td>\n",
              "      <td>5508.992</td>\n",
              "      <td>6762.02</td>\n",
              "      <td>10500.35</td>\n",
              "      <td>1111</td>\n",
              "    </tr>\n",
              "    <tr>\n",
              "      <th>2</th>\n",
              "      <td>3.0</td>\n",
              "      <td>7393.76</td>\n",
              "      <td>1112.992000</td>\n",
              "      <td>4.249</td>\n",
              "      <td>3.224</td>\n",
              "      <td>5508.993</td>\n",
              "      <td>6762.02</td>\n",
              "      <td>10420.38</td>\n",
              "      <td>1110</td>\n",
              "    </tr>\n",
              "    <tr>\n",
              "      <th>3</th>\n",
              "      <td>4.0</td>\n",
              "      <td>7385.50</td>\n",
              "      <td>1080.320667</td>\n",
              "      <td>4.250</td>\n",
              "      <td>3.225</td>\n",
              "      <td>5502.016</td>\n",
              "      <td>6762.02</td>\n",
              "      <td>10322.81</td>\n",
              "      <td>1109</td>\n",
              "    </tr>\n",
              "    <tr>\n",
              "      <th>4</th>\n",
              "      <td>6.0</td>\n",
              "      <td>65022.75</td>\n",
              "      <td>29813.487000</td>\n",
              "      <td>4.290</td>\n",
              "      <td>3.398</td>\n",
              "      <td>5480.992</td>\n",
              "      <td>53213.54</td>\n",
              "      <td>56699.65</td>\n",
              "      <td>1107</td>\n",
              "    </tr>\n",
              "  </tbody>\n",
              "</table>\n",
              "</div>"
            ],
            "text/plain": [
              "   Cycle_Index  Discharge Time (s)  Decrement 3.6-3.4V (s)  \\\n",
              "0          1.0             2595.30             1151.488500   \n",
              "1          2.0             7408.64             1172.512500   \n",
              "2          3.0             7393.76             1112.992000   \n",
              "3          4.0             7385.50             1080.320667   \n",
              "4          6.0            65022.75            29813.487000   \n",
              "\n",
              "   Max. Voltage Dischar. (V)  Min. Voltage Charg. (V)  Time at 4.15V (s)  \\\n",
              "0                      3.670                    3.211           5460.001   \n",
              "1                      4.246                    3.220           5508.992   \n",
              "2                      4.249                    3.224           5508.993   \n",
              "3                      4.250                    3.225           5502.016   \n",
              "4                      4.290                    3.398           5480.992   \n",
              "\n",
              "   Time constant current (s)  Charging time (s)   RUL  \n",
              "0                    6755.01           10777.82  1112  \n",
              "1                    6762.02           10500.35  1111  \n",
              "2                    6762.02           10420.38  1110  \n",
              "3                    6762.02           10322.81  1109  \n",
              "4                   53213.54           56699.65  1107  "
            ]
          },
          "execution_count": 3,
          "metadata": {},
          "output_type": "execute_result"
        }
      ],
      "source": [
        "df.head()"
      ]
    },
    {
      "cell_type": "code",
      "execution_count": 4,
      "metadata": {
        "colab": {
          "base_uri": "https://localhost:8080/"
        },
        "id": "uBTGLIkmdcnH",
        "outputId": "a692202a-4360-49e5-afe5-531687b126a5"
      },
      "outputs": [
        {
          "data": {
            "text/plain": [
              "Cycle_Index                  15064\n",
              "Discharge Time (s)           15064\n",
              "Decrement 3.6-3.4V (s)       15064\n",
              "Max. Voltage Dischar. (V)    15064\n",
              "Min. Voltage Charg. (V)      15064\n",
              "Time at 4.15V (s)            15064\n",
              "Time constant current (s)    15064\n",
              "Charging time (s)            15064\n",
              "RUL                          15064\n",
              "dtype: int64"
            ]
          },
          "execution_count": 4,
          "metadata": {},
          "output_type": "execute_result"
        }
      ],
      "source": [
        "df.count()"
      ]
    },
    {
      "cell_type": "code",
      "execution_count": 5,
      "metadata": {
        "colab": {
          "base_uri": "https://localhost:8080/"
        },
        "id": "uf-oHblHddeU",
        "outputId": "03d0123d-41d7-412f-e8b3-3d45252e0b29"
      },
      "outputs": [
        {
          "data": {
            "text/plain": [
              "Cycle_Index                  15064\n",
              "Discharge Time (s)           15064\n",
              "Decrement 3.6-3.4V (s)       15064\n",
              "Max. Voltage Dischar. (V)    15064\n",
              "Min. Voltage Charg. (V)      15064\n",
              "Time at 4.15V (s)            15064\n",
              "Time constant current (s)    15064\n",
              "Charging time (s)            15064\n",
              "RUL                          15064\n",
              "dtype: int64"
            ]
          },
          "execution_count": 5,
          "metadata": {},
          "output_type": "execute_result"
        }
      ],
      "source": [
        "missing_values = df.isnull().sum()\n",
        "if missing_values.any():\n",
        "    # Handle missing values (e.g., imputation or removal)\n",
        "    df = df.dropna()\n",
        "df.count()"
      ]
    },
    {
      "cell_type": "code",
      "execution_count": null,
      "metadata": {
        "colab": {
          "base_uri": "https://localhost:8080/"
        },
        "id": "pAA-GEduiom2",
        "outputId": "782cd90e-cff5-4788-a76b-5399f85cf345"
      },
      "outputs": [
        {
          "name": "stdout",
          "output_type": "stream",
          "text": [
            "Mean Squared Error: 14.343975970793228\n"
          ]
        }
      ],
      "source": [
        "import pandas as pd\n",
        "from sklearn.model_selection import train_test_split\n",
        "from sklearn.ensemble import RandomForestRegressor\n",
        "from sklearn.metrics import mean_squared_error\n",
        "\n",
        "# Load the CSV file into a DataFrame\n",
        "df = pd.read_csv('C:/Users/kolli/Downloads/Majorcode - Copy/Battery_RUL.csv')\n",
        "\n",
        "# Separate features (input variables) and target (output variable)\n",
        "X = df.drop(columns=['RUL'])\n",
        "y = df['RUL']\n",
        "\n",
        "# Split the data into training and testing sets\n",
        "X_train, X_test, y_train, y_test = train_test_split(X, y, test_size=0.2, random_state=42)\n",
        "\n",
        "# Initialize the Random Forest Regressor model\n",
        "model = RandomForestRegressor(random_state=42)\n",
        "\n",
        "# Train the model on the training data\n",
        "model.fit(X_train, y_train)\n",
        "\n",
        "# Make predictions on the testing data\n",
        "y_pred = model.predict(X_test)\n",
        "\n",
        "# Calculate the Mean Squared Error (MSE) to evaluate the model\n",
        "mse = mean_squared_error(y_test, y_pred)\n",
        "print(\"Mean Squared Error:\", mse)\n",
        "\n",
        "# Now, let's define a function to predict remaining battery life based on input values\n",
        "def predict_remaining_life(cycle_index, discharge_time, decrement_time, max_voltage, min_voltage, time_at_415v, time_constant_current, charging_time):\n",
        "    input_data = [[cycle_index, discharge_time, decrement_time, max_voltage, min_voltage, time_at_415v, time_constant_current, charging_time]]\n",
        "    predicted_life = model.predict(input_data)\n",
        "    return predicted_life[0]\n",
        "\n",
        "# Now, let's get some inputs from the user\n",
        "cycle_index = int(input(\"Enter Cycle Index: \"))\n",
        "discharge_time = float(input(\"Enter Discharge Time (s): \"))\n",
        "decrement_time = float(input(\"Enter Decrement 3.6-3.4V Time (s): \"))\n",
        "max_voltage = float(input(\"Enter Max. Voltage Discharged (V): \"))\n",
        "min_voltage = float(input(\"Enter Min. Voltage Charged (V): \"))\n",
        "time_at_415v = float(input(\"Enter Time at 4.15V (s): \"))\n",
        "time_constant_current = float(input(\"Enter Time Constant Current (s): \"))\n",
        "charging_time = float(input(\"Enter Charging Time (s): \"))\n",
        "\n",
        "# Now, let's use the function to predict remaining battery life\n",
        "predicted_life = predict_remaining_life(cycle_index, discharge_time, decrement_time, max_voltage, min_voltage, time_at_415v, time_constant_current, charging_time)\n",
        "\n",
        "# Finally, let's print out the predicted remaining battery life\n",
        "print(\"Predicted Remaining Battery Life:\", predicted_life, \"cycles\")\n"
      ]
    },
    {
      "cell_type": "code",
      "execution_count": null,
      "metadata": {
        "colab": {
          "base_uri": "https://localhost:8080/"
        },
        "id": "3Idde700iok9",
        "outputId": "3408d706-1ff7-4ca6-86b1-dc2f563ccc44"
      },
      "outputs": [
        {
          "name": "stdout",
          "output_type": "stream",
          "text": [
            "Model saved successfully!\n"
          ]
        }
      ],
      "source": [
        "import joblib\n",
        "from sklearn.ensemble import RandomForestRegressor\n",
        "\n",
        "# Define the file path where you want to save the model\n",
        "model_file_path = 'C:/Users/kolli/Downloads/Majorcode'\n",
        "\n",
        "# Load the pre-trained Random Forest Regressor model\n",
        "model = RandomForestRegressor()\n",
        "# Train the model...\n",
        "\n",
        "# Save the trained model to disk\n",
        "joblib.dump(model, model_file_path + '/battery_rul_model.pkl', compress=1)\n",
        "\n",
        "print(\"Model saved successfully!\")\n"
      ]
    },
    {
      "cell_type": "code",
      "execution_count": 3,
      "metadata": {
        "colab": {
          "base_uri": "https://localhost:8080/"
        },
        "id": "__YVOr4hiois",
        "outputId": "3fe97fce-54f5-4425-aa51-ab54dcf51c40"
      },
      "outputs": [
        {
          "name": "stdout",
          "output_type": "stream",
          "text": [
            "Model loaded successfully!\n"
          ]
        }
      ],
      "source": [
        "import joblib\n",
        "\n",
        "# Define the file path where the model is saved\n",
        "model_file_path = 'C:/Users/kolli/Downloads/Majorcode'\n",
        "\n",
        "# Load the model from disk\n",
        "loaded_model = joblib.load(model_file_path + '/battery_rul_model.pkl')\n",
        "\n",
        "print(\"Model loaded successfully!\")\n"
      ]
    }
  ],
  "metadata": {
    "accelerator": "TPU",
    "colab": {
      "gpuType": "V28",
      "provenance": []
    },
    "kernelspec": {
      "display_name": "Python 3",
      "name": "python3"
    },
    "language_info": {
      "codemirror_mode": {
        "name": "ipython",
        "version": 3
      },
      "file_extension": ".py",
      "mimetype": "text/x-python",
      "name": "python",
      "nbconvert_exporter": "python",
      "pygments_lexer": "ipython3",
      "version": "3.10.0"
    }
  },
  "nbformat": 4,
  "nbformat_minor": 0
}
